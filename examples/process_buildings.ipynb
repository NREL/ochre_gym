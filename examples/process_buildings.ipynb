{
 "cells": [
  {
   "cell_type": "code",
   "execution_count": 31,
   "metadata": {},
   "outputs": [],
   "source": [
    "from pathlib import Path\n",
    "# import xml \n",
    "import xml.etree.ElementTree as ET\n",
    "import shutil"
   ]
  },
  {
   "cell_type": "code",
   "execution_count": 29,
   "metadata": {},
   "outputs": [
    {
     "name": "stdout",
     "output_type": "stream",
     "text": [
      "[PosixPath('/Users/pemami/data/ochre/output/results/simulation_output/up00/bldg0000003'), PosixPath('/Users/pemami/data/ochre/output/results/simulation_output/up00/bldg0000004'), PosixPath('/Users/pemami/data/ochre/output/results/simulation_output/up00/bldg0000032'), PosixPath('/Users/pemami/data/ochre/output/results/simulation_output/up00/bldg0000035'), PosixPath('/Users/pemami/data/ochre/output/results/simulation_output/up00/bldg0000034'), PosixPath('/Users/pemami/data/ochre/output/results/simulation_output/up00/bldg0000033'), PosixPath('/Users/pemami/data/ochre/output/results/simulation_output/up00/bldg0000005'), PosixPath('/Users/pemami/data/ochre/output/results/simulation_output/up00/bldg0000002'), PosixPath('/Users/pemami/data/ochre/output/results/simulation_output/up00/bldg0000020'), PosixPath('/Users/pemami/data/ochre/output/results/simulation_output/up00/bldg0000018'), PosixPath('/Users/pemami/data/ochre/output/results/simulation_output/up00/bldg0000027'), PosixPath('/Users/pemami/data/ochre/output/results/simulation_output/up00/bldg0000011'), PosixPath('/Users/pemami/data/ochre/output/results/simulation_output/up00/bldg0000029'), PosixPath('/Users/pemami/data/ochre/output/results/simulation_output/up00/bldg0000016'), PosixPath('/Users/pemami/data/ochre/output/results/simulation_output/up00/bldg0000028'), PosixPath('/Users/pemami/data/ochre/output/results/simulation_output/up00/bldg0000017'), PosixPath('/Users/pemami/data/ochre/output/results/simulation_output/up00/bldg0000010'), PosixPath('/Users/pemami/data/ochre/output/results/simulation_output/up00/bldg0000019'), PosixPath('/Users/pemami/data/ochre/output/results/simulation_output/up00/bldg0000026'), PosixPath('/Users/pemami/data/ochre/output/results/simulation_output/up00/bldg0000021'), PosixPath('/Users/pemami/data/ochre/output/results/simulation_output/up00/bldg0000007'), PosixPath('/Users/pemami/data/ochre/output/results/simulation_output/up00/bldg0000038'), PosixPath('/Users/pemami/data/ochre/output/results/simulation_output/up00/bldg0000036'), PosixPath('/Users/pemami/data/ochre/output/results/simulation_output/up00/bldg0000009'), PosixPath('/Users/pemami/data/ochre/output/results/simulation_output/up00/bldg0000031'), PosixPath('/Users/pemami/data/ochre/output/results/simulation_output/up00/bldg0000030'), PosixPath('/Users/pemami/data/ochre/output/results/simulation_output/up00/bldg0000037'), PosixPath('/Users/pemami/data/ochre/output/results/simulation_output/up00/bldg0000008'), PosixPath('/Users/pemami/data/ochre/output/results/simulation_output/up00/bldg0000001'), PosixPath('/Users/pemami/data/ochre/output/results/simulation_output/up00/bldg0000006'), PosixPath('/Users/pemami/data/ochre/output/results/simulation_output/up00/bldg0000039'), PosixPath('/Users/pemami/data/ochre/output/results/simulation_output/up00/bldg0000024'), PosixPath('/Users/pemami/data/ochre/output/results/simulation_output/up00/bldg0000023'), PosixPath('/Users/pemami/data/ochre/output/results/simulation_output/up00/bldg0000015'), PosixPath('/Users/pemami/data/ochre/output/results/simulation_output/up00/bldg0000012'), PosixPath('/Users/pemami/data/ochre/output/results/simulation_output/up00/bldg0000040'), PosixPath('/Users/pemami/data/ochre/output/results/simulation_output/up00/bldg0000013'), PosixPath('/Users/pemami/data/ochre/output/results/simulation_output/up00/bldg0000014'), PosixPath('/Users/pemami/data/ochre/output/results/simulation_output/up00/bldg0000022'), PosixPath('/Users/pemami/data/ochre/output/results/simulation_output/up00/bldg0000025')]\n"
     ]
    }
   ],
   "source": [
    "basedir = Path('/Users/pemami/data/ochre/output/results/simulation_output/up00')\n",
    "outdir = Path('/Users/pemami/Workspace/NREL/ochre_gym/ochre_gym/buildings')\n",
    "# list all folders in bassedir\n",
    "folders = [f for f in basedir.iterdir() if f.is_dir()]\n",
    "print(folders)"
   ]
  },
  {
   "cell_type": "code",
   "execution_count": 34,
   "metadata": {},
   "outputs": [
    {
     "name": "stdout",
     "output_type": "stream",
     "text": [
      "bldg0000003 G1200050\n",
      "bldg0000004 G0400130\n",
      "bldg0000032 G0600650\n",
      "bldg0000035 G0600650\n",
      "bldg0000034 G0600650\n",
      "bldg0000033 G0600650\n",
      "bldg0000005 G1301770\n",
      "bldg0000002 G1200110\n",
      "bldg0000020 G0600650\n",
      "bldg0000018 G0600650\n",
      "bldg0000027 G0600650\n",
      "bldg0000011 G4200110\n",
      "bldg0000029 G0600650\n",
      "bldg0000016 G0800970\n",
      "bldg0000028 G0600650\n",
      "bldg0000017 G0600650\n",
      "bldg0000010 G5300330\n",
      "bldg0000019 G0600650\n",
      "bldg0000026 G0600650\n",
      "bldg0000021 G0600650\n",
      "bldg0000007 G0600010\n",
      "bldg0000038 G0600650\n",
      "bldg0000036 G0600650\n",
      "bldg0000009 G4001390\n",
      "bldg0000031 G0600650\n",
      "bldg0000030 G0600650\n",
      "bldg0000037 G0600650\n",
      "bldg0000008 G4700930\n",
      "bldg0000001 G0600650\n",
      "bldg0000006 G0600950\n",
      "bldg0000039 G0600650\n",
      "bldg0000024 G0600650\n",
      "bldg0000023 G0600650\n",
      "bldg0000015 G2300030\n",
      "bldg0000012 G0800590\n",
      "bldg0000040 G0600650\n",
      "bldg0000013 G5501050\n",
      "bldg0000014 G5600250\n",
      "bldg0000022 G0600650\n",
      "bldg0000025 G0600650\n"
     ]
    }
   ],
   "source": [
    "for f in folders:\n",
    "    xml_file = f / 'run' / 'home.xml'\n",
    "    tree = ET.parse(xml_file)   \n",
    "    # traverse the tree \n",
    "    for node in tree.iter():\n",
    "        if node.tag == '{http://hpxmlonline.com/2019/10}WeatherStation':\n",
    "            print( f.stem, node[1].text  )\n",
    "            weather_file = f / '..' / '..' / '..' / '..' / 'weather' / f'{node[1].text}.epw'\n",
    "            newdir = (outdir / f.stem)\n",
    "            newdir.mkdir(parents=True, exist_ok=True)\n",
    "            # create a copy of home.xml, schedules.csv, and weather.epw to newdir\n",
    "\n",
    "            shutil.copy(xml_file, newdir / 'home.xml')\n",
    "            shutil.copy(f / 'run' / 'schedules.csv', newdir / 'schedules.csv')\n",
    "            shutil.copy(weather_file, newdir / f'{node[1].text}.epw')\n",
    "\n",
    "\n",
    "            break\n",
    "    \n"
   ]
  }
 ],
 "metadata": {
  "kernelspec": {
   "display_name": "ochre_official",
   "language": "python",
   "name": "python3"
  },
  "language_info": {
   "codemirror_mode": {
    "name": "ipython",
    "version": 3
   },
   "file_extension": ".py",
   "mimetype": "text/x-python",
   "name": "python",
   "nbconvert_exporter": "python",
   "pygments_lexer": "ipython3",
   "version": "3.9.17"
  },
  "orig_nbformat": 4
 },
 "nbformat": 4,
 "nbformat_minor": 2
}
